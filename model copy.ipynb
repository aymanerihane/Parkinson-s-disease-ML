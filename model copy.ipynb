{
 "cells": [
  {
   "cell_type": "code",
   "execution_count": 197,
   "metadata": {},
   "outputs": [],
   "source": [
    "from sklearn.model_selection import train_test_split\n",
    "from sklearn.metrics import classification_report, accuracy_score, confusion_matrix\n",
    "from sklearn.preprocessing import StandardScaler\n",
    "from pca import PCA\n",
    "import pandas as pd\n",
    "\n",
    "data_balanced = pd.read_csv('data_balanced.csv')    \n",
    "# Assuming data_balanced is a DataFrame with 'class' as the target\n",
    "X = data_balanced.drop(columns=['class'])  # Features\n",
    "y = data_balanced['class']  # Target\n",
    "\n",
    "# Convert to NumPy arrays\n",
    "# X = np.asarray(X)\n",
    "# y = np.asarray(y)\n",
    "y= y.astype('int')\n",
    "\n",
    "# Step 1: Apply EFSA for feature selection\n",
    "# efsa = EFSA(correlation_threshold=0.4, n_features=5)  # Adjust thresholds as needed\n",
    "X_selected = X  # efsa.fit_transform(X, y)\n",
    "\n",
    "\n",
    "# scaler = StandardScaler()\n",
    "# X = scaler.fit_transform(X)\n",
    "# Split into train and test sets (before feature selection)\n",
    "X_train, X_test, y_train, y_test = train_test_split(X, y, test_size=0.3, random_state=42)\n",
    "\n",
    "\n",
    "# Step 2: Feature Scaling (optional, depending on your model)\n",
    "# scaler = StandardScaler()\n",
    "# X_train_scaled = scaler.fit_transform(X_train)\n",
    "# X_test_scaled = scaler.transform(X_test)\n",
    "\n",
    "# Step 3: Apply PCA for dimensionality reduction\n",
    "# pca = PCA(n_components=5)  # Adjust number of components as needed\n",
    "# X_train_pca = pca.fit_transform(X_train_scaled)\n",
    "# X_test_pca = pca.transform(X_test_scaled)\n"
   ]
  },
  {
   "cell_type": "code",
   "execution_count": 198,
   "metadata": {},
   "outputs": [
    {
     "name": "stdout",
     "output_type": "stream",
     "text": [
      "7\n",
      "[58, 132, 133, 135, 404, 620, 656]\n"
     ]
    }
   ],
   "source": [
    "from efsa import EFSA\n",
    "\n",
    "\n",
    "efsa = EFSA(correlation_threshold=0.43)\n",
    "selected,_ = efsa.correlation_selection(X_train.values, y_train.values)\n",
    "# print(selected)\n",
    "# X_selected = X_train[:,selected]  \n",
    "\n",
    "#read the first element of each tuple in the list\n",
    "selected = [i[0] for i in selected]\n",
    "if selected[0]==0:\n",
    "    selected = selected[1:]\n",
    "\n",
    "#get the all rows and only the selected columns\n",
    "X_selected = X_train.iloc[:,selected]\n",
    "X_test_selected = X_test.iloc[:,selected]\n",
    "\n",
    "# X_selected = X_train.iloc[:,selected]\n",
    "\n",
    "\n",
    "# remove the column 0 is present \n",
    "# if 0 in selected.columns:\n",
    "    # X_selected = X_selected.drop(columns=[0])\n",
    "# X_test = efsa.transform(X_test.values)\n",
    "print(len(selected))\n",
    "print(selected)\n",
    "\n",
    "# scaler = StandardScaler()\n",
    "# X_train = scaler.fit_transform(X_train)\n",
    "# X_test = scaler.transform(X_test)\n",
    "\n"
   ]
  },
  {
   "cell_type": "code",
   "execution_count": 199,
   "metadata": {},
   "outputs": [
    {
     "name": "stdout",
     "output_type": "stream",
     "text": [
      "Epoch 0: Loss = 0.6931471805599454\n",
      "Epoch 100: Loss = 0.1224122531534165\n",
      "Epoch 200: Loss = 0.08346340780761291\n",
      "Epoch 300: Loss = 0.06444729638134768\n",
      "Epoch 400: Loss = 0.0526557351037139\n",
      "Epoch 500: Loss = 0.04452936217650493\n",
      "Epoch 600: Loss = 0.038568893659783214\n",
      "Epoch 700: Loss = 0.03400599298811872\n",
      "Epoch 800: Loss = 0.03040006703764631\n",
      "Epoch 900: Loss = 0.027478885916072917\n",
      "Epoch 0: Loss = 0.6931471805599454\n",
      "Epoch 100: Loss = 0.12241225315341649\n",
      "Epoch 200: Loss = 0.08346340780761292\n",
      "Epoch 300: Loss = 0.06444729638134766\n",
      "Epoch 400: Loss = 0.0526557351037139\n",
      "Epoch 500: Loss = 0.04452936217650493\n",
      "Epoch 600: Loss = 0.038568893659783214\n",
      "Epoch 700: Loss = 0.03400599298811872\n",
      "Epoch 800: Loss = 0.03040006703764631\n",
      "Epoch 900: Loss = 0.027478885916072924\n",
      "Accuracy: 0.8908554572271387\n"
     ]
    }
   ],
   "source": [
    "# from logistic import Logistic\n",
    "from sklearn.preprocessing import StandardScaler\n",
    "from logistic import Logistic\n",
    "\n",
    "scaler = StandardScaler()\n",
    "X_train_scaled = scaler.fit_transform(X_train)\n",
    "X_test_scaled = scaler.transform(X_test)\n",
    "\n",
    "logistic = Logistic(learning_rate=0.1, epochs=1000)\n",
    "logistic.one_vs_all(X_train_scaled, y_train)\n",
    "y_pred = logistic.predict_multiclass(X_test_scaled)\n",
    "print('Accuracy:', accuracy_score(y_test, y_pred))"
   ]
  },
  {
   "cell_type": "code",
   "execution_count": 200,
   "metadata": {},
   "outputs": [
    {
     "name": "stdout",
     "output_type": "stream",
     "text": [
      "Accuracy: 0.7345132743362832\n"
     ]
    }
   ],
   "source": [
    "\n",
    "from decision_tree import DecisionTree\n",
    "\n",
    "dt = DecisionTree(max_depth=3)\n",
    "dt.fit(X_selected, y_train)\n",
    "y_pred = dt.predict(X_test_selected)\n",
    "print('Accuracy:', accuracy_score(y_test, y_pred))\n"
   ]
  },
  {
   "cell_type": "code",
   "execution_count": null,
   "metadata": {},
   "outputs": [
    {
     "name": "stdout",
     "output_type": "stream",
     "text": [
      "Fitting tree 1...\n",
      "Fitting tree 2...\n",
      "Fitting tree 3...\n",
      "Accuracy: 0.7669616519174042\n"
     ]
    },
    {
     "name": "stderr",
     "output_type": "stream",
     "text": [
      "c:\\Users\\pc\\OneDrive\\Documents\\IASD\\machine learning\\PROJET\\decision_tree.py:81: FutureWarning: Series.__getitem__ treating keys as positions is deprecated. In a future version, integer keys will always be treated as labels (consistent with DataFrame behavior). To access a value by position, use `ser.iloc[pos]`\n",
      "  feature_value = example[tree.feature]\n"
     ]
    }
   ],
   "source": [
    "from RF import RandomForest\n",
    "rf = RandomForest(n_trees=3, max_depth=3)\n",
    "X_selected_pd = pd.DataFrame(X_selected)\n",
    "rf.fit(X_selected_pd, y_train)\n",
    "y_pred = rf.predict(X_test_selected)\n",
    "print('Accuracy:', accuracy_score(y_test, y_pred))"
   ]
  },
  {
   "cell_type": "code",
   "execution_count": 210,
   "metadata": {},
   "outputs": [
    {
     "name": "stdout",
     "output_type": "stream",
     "text": [
      "Fitting tree 1\n",
      "Fitting tree 2\n",
      "Fitting tree 3\n",
      "accuracy_score : 0.7817109144542773\n"
     ]
    }
   ],
   "source": [
    "from lightGBM_copy import LightFBM\n",
    "# Train a LightGBM model\n",
    "lgbm = LightFBM()\n",
    "lgbm.fit(X_selected.values, y_train.values)\n",
    "y_pred = lgbm.predict(X_test_selected.values)\n",
    "y_pred = (y_pred >= 0.5).astype(int)\n",
    "df = pd.DataFrame({'Actual': y_test, 'Predicted': y_pred})\n",
    "print(f\"accuracy_score : {accuracy_score(y_test, y_pred)}\")\n"
   ]
  }
 ],
 "metadata": {
  "kernelspec": {
   "display_name": "Python 3",
   "language": "python",
   "name": "python3"
  },
  "language_info": {
   "codemirror_mode": {
    "name": "ipython",
    "version": 3
   },
   "file_extension": ".py",
   "mimetype": "text/x-python",
   "name": "python",
   "nbconvert_exporter": "python",
   "pygments_lexer": "ipython3",
   "version": "3.12.2"
  }
 },
 "nbformat": 4,
 "nbformat_minor": 2
}
